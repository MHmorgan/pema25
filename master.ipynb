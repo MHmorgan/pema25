{
 "cells": [
  {
   "cell_type": "code",
   "id": "initial_id",
   "metadata": {},
   "source": [
    "import itertools\n",
    "\n",
    "import analysis\n",
    "import extra\n",
    "from answers import *\n",
    "from scoring import *\n",
    "\n",
    "import matplotlib.pyplot as plt\n"
   ],
   "outputs": [],
   "execution_count": null
  },
  {
   "cell_type": "code",
   "id": "5ad3ae737beffd58",
   "metadata": {},
   "source": [
    "all_answers = read_answers()\n",
    "scorings = read_scorings(all_answers)\n",
    "\n",
    "for scoring in scorings.values():\n",
    "    scored_answers = [ans for ans in scoring.answers()]\n",
    "    scored_with_ai = [ans for ans in scoring.with_ai().answers()]\n",
    "    scored_without = [ans for ans in scoring.without_ai().answers()]\n",
    "    break"
   ],
   "outputs": [],
   "execution_count": null
  },
  {
   "cell_type": "markdown",
   "id": "c8b3438bae42a61c",
   "metadata": {},
   "source": [
    "# AI vs. uten AI\n",
    "\n",
    "Sammenligning av vurderingskriterier mellom AI og ikke-AI svar.\n",
    "\n",
    "- Gjennomsnitt og median.\n",
    "- Sensor-vurderinger og selvvurderinger."
   ]
  },
  {
   "cell_type": "markdown",
   "id": "e6f66d91db25c2bc",
   "metadata": {
    "jp-MarkdownHeadingCollapsed": true
   },
   "source": [
    "## Median Scoring"
   ]
  },
  {
   "cell_type": "code",
   "id": "7a89eddac9215efd",
   "metadata": {},
   "source": [
    "median = Scoring.from_median(scorings.values())\n",
    "analysis.scoring_report(median.with_ai(), median.without_ai())"
   ],
   "outputs": [],
   "execution_count": null
  },
  {
   "cell_type": "markdown",
   "id": "53c05cf98dc258ec",
   "metadata": {
    "jp-MarkdownHeadingCollapsed": true
   },
   "source": [
    "## Self-evaluation"
   ]
  },
  {
   "cell_type": "code",
   "id": "ae8e47165d226708",
   "metadata": {},
   "source": [
    "self_evals = Scoring(\n",
    "    ScoringEntry.from_answer(ans, ans.number)\n",
    "    for ans in scored_answers\n",
    ")\n",
    "analysis.scoring_report(self_evals.with_ai(), self_evals.without_ai())"
   ],
   "outputs": [],
   "execution_count": null
  },
  {
   "metadata": {},
   "cell_type": "markdown",
   "source": [
    "# Other Dimensions\n",
    "\n",
    "Analysis of the results based on other dimensions."
   ],
   "id": "3427d2bf6e467796"
  },
  {
   "metadata": {},
   "cell_type": "code",
   "source": [
    "categories = extra.read_categories()\n",
    "category_names = categories.category_names()\n",
    "\n",
    "categorized_with_ai = categorize(scored_with_ai, categories)\n",
    "categorized_without = categorize(scored_without, categories)\n",
    "\n",
    "categorized_with_ai_grouped = {}\n",
    "for ans in categorized_with_ai:\n",
    "    categorized_with_ai_grouped.setdefault(ans.category, []).append(ans)\n",
    "\n",
    "categorized_without_grouped = {}\n",
    "for ans in categorized_without:\n",
    "    categorized_without_grouped.setdefault(ans.category, []).append(ans)"
   ],
   "id": "f62ba3da2ee0fb84",
   "outputs": [],
   "execution_count": null
  },
  {
   "metadata": {},
   "cell_type": "markdown",
   "source": "## Category",
   "id": "e17dcfed04c08dac"
  },
  {
   "metadata": {},
   "cell_type": "code",
   "source": [
    "with_ai_count = {k: len(g) for k, g in categorized_with_ai_grouped.items()}\n",
    "without_count = {k: len(g) for k, g in categorized_without_grouped.items()}\n",
    "\n",
    "analysis.bar_plot(\n",
    "    values_with_ai=[with_ai_count.get(cat, 0) for cat in category_names],\n",
    "    values_without=[without_count.get(cat, 0) for cat in category_names],\n",
    "    title='Category Distribution: With AI vs Without AI',\n",
    "    ylabel='Count',\n",
    "    xlabel='Categories',\n",
    "    xticklabels=category_names,\n",
    ")"
   ],
   "id": "2ceda851db77425",
   "outputs": [],
   "execution_count": null
  },
  {
   "metadata": {},
   "cell_type": "markdown",
   "source": "## Number of Ideas",
   "id": "c31fac987361f6a5"
  },
  {
   "metadata": {},
   "cell_type": "code",
   "source": [
    "cnt_with_ai = 0\n",
    "for ans in categorized_with_ai:\n",
    "    cnt_with_ai = cnt_with_ai + ans.ideas\n",
    "\n",
    "avg_with_ai = statistics.mean(ans.ideas for ans in categorized_with_ai)\n",
    "\n",
    "cnt_without = 0\n",
    "for ans in categorized_without:\n",
    "    cnt_without = cnt_without + ans.ideas\n",
    "\n",
    "avg_without = statistics.mean(ans.ideas for ans in categorized_without)\n",
    "\n",
    "print(f'    With AI   Without')\n",
    "print(f'Total    {cnt_with_ai:>2}   {cnt_without}')\n",
    "print(f'Average  {avg_with_ai:>2}   {avg_without:.3}')"
   ],
   "id": "c951f0feead43815",
   "outputs": [],
   "execution_count": null
  }
 ],
 "metadata": {
  "kernelspec": {
   "display_name": "Python 3 (ipykernel)",
   "language": "python",
   "name": "python3"
  },
  "language_info": {
   "codemirror_mode": {
    "name": "ipython",
    "version": 3
   },
   "file_extension": ".py",
   "mimetype": "text/x-python",
   "name": "python",
   "nbconvert_exporter": "python",
   "pygments_lexer": "ipython3",
   "version": "3.13.3"
  }
 },
 "nbformat": 4,
 "nbformat_minor": 5
}
