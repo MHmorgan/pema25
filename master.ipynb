{
 "cells": [
  {
   "cell_type": "code",
   "id": "initial_id",
   "metadata": {},
   "source": [
    "from answers import read_answers\n",
    "from scoring import read_scorings"
   ],
   "outputs": [],
   "execution_count": null
  },
  {
   "cell_type": "code",
   "id": "5ad3ae737beffd58",
   "metadata": {},
   "source": [
    "answers = read_answers()\n",
    "scorings = read_scorings(answers)\n",
    "felles = scorings['felles']"
   ],
   "outputs": [],
   "execution_count": null
  },
  {
   "cell_type": "markdown",
   "id": "c8b3438bae42a61c",
   "metadata": {},
   "source": [
    "# AI vs. uten AI\n",
    "\n",
    "Sammenligning av vurderingskriterier mellom AI og ikke-AI svar.\n",
    "\n",
    "- Gjennomsnitt og median.\n",
    "- Sensor-vurderinger og selvvurderinger."
   ]
  },
  {
   "metadata": {},
   "cell_type": "code",
   "source": [
    "import statistics\n",
    "\n",
    "\n",
    "class AvgMedian:\n",
    "    def __init__(self, with_ai, without):\n",
    "        self.mean_with_ai = statistics.mean(with_ai)\n",
    "        self.mean_without = statistics.mean(without)\n",
    "        self.median_with_ai = statistics.median(with_ai)\n",
    "        self.median_without = statistics.median(without)\n",
    "\n",
    "\n",
    "original = AvgMedian(\n",
    "    with_ai=[s.original for s in felles.with_ai()],\n",
    "    without=[s.original for s in felles.with_ai()],\n",
    ")\n",
    "\n",
    "plausible = AvgMedian(\n",
    "    with_ai=[s.plausible for s in felles.with_ai()],\n",
    "    without=[s.plausible for s in felles.with_ai()],\n",
    ")\n",
    "\n",
    "effective = AvgMedian(\n",
    "    with_ai=[s.effective for s in felles.with_ai()],\n",
    "    without=[s.effective for s in felles.with_ai()],\n",
    ")"
   ],
   "id": "94d3227665f97a0a",
   "outputs": [],
   "execution_count": null
  }
 ],
 "metadata": {
  "kernelspec": {
   "display_name": "Python 3 (ipykernel)",
   "language": "python",
   "name": "python3"
  },
  "language_info": {
   "codemirror_mode": {
    "name": "ipython",
    "version": 3
   },
   "file_extension": ".py",
   "mimetype": "text/x-python",
   "name": "python",
   "nbconvert_exporter": "python",
   "pygments_lexer": "ipython3",
   "version": "3.13.3"
  }
 },
 "nbformat": 4,
 "nbformat_minor": 5
}
